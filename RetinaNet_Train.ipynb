{
 "cells": [
  {
   "cell_type": "markdown",
   "metadata": {},
   "source": [
    "## Train\n",
    "\n",
    "Keras-RetinaNet 모델 훈련 과정입니다. Keras 2.1.2, [Keras-RetinaNet](https://github.com/fizyr/keras-retinanet), [Keras-ResNet](https://github.com/broadinstitute/keras-resnet) 패키지가 필요합니다. 다음은 환경 구축에 필요한 사전 과정입니다.\n",
    "\n",
    " - keras>=2.1.2가 설치되어있는지 재확인합니다.\n",
    " ```\n",
    " pip install keras --upgrade\n",
    " ```\n",
    " - 위에서 명시한 각 패키지를 다운로드 및 설치합니다.\n",
    " ```\n",
    " git clone https://github.com/fizyr/keras-retinanet.git\n",
    " cd keras-retinanet\n",
    " python setup.py install\n",
    " pip install --upgrade git+https://github.com/broadinstitute/keras-resnet\n",
    " ```"
   ]
  },
  {
   "cell_type": "code",
   "execution_count": null,
   "metadata": {},
   "outputs": [],
   "source": [
    "from keras.backend.tensorflow_backend import set_session\n",
    "from keras.callbacks import EarlyStopping, ModelCheckpoint, ReduceLROnPlateau\n",
    "from keras.layers import Input\n",
    "from keras.optimizers import adam\n",
    "from keras.preprocessing.image import ImageDataGenerator\n",
    "from keras_retinanet.losses import focal, smooth_l1\n",
    "from keras_retinanet.models.resnet import ResNet50RetinaNet\n",
    "from keras_retinanet.utils.keras_version import check_keras_version\n",
    "from keras_retinanet.preprocessing.pascal_voc import PascalVocGenerator\n",
    "\n",
    "import tensorflow as tf"
   ]
  },
  {
   "cell_type": "markdown",
   "metadata": {},
   "source": [
    "### 데이터셋 설정\n",
    "\n",
    "아래는 데이터셋 및 훈련 설정에 필요한 환경 변수입니다. 사용하는 데이터셋 및 모델에 맞춰서 변경하시기 바랍니다.\n",
    "\n",
    " - `classes` : 데이터내에 구성하는 모든 클래스의 정보를 담은 dict입니다. 키는 클래스 이름, 값은 각 클래스의 일련번호로 지정해야 합니다. 일련번호는 숫자 0부터 중복과 누락없이 채워져야 합니다. `None` 지정시 Pascal VOC의 기본값이 됩니다.\n",
    " - `dataset_path` : 데이터셋이 존재하는 경로를 지정합니다.\n",
    " - `train_dataset_name` : 데이터셋 내에서 훈련용으로 사용할 ImageSets 묶음의 이름입니다.\n",
    " - `val_dataset_name` : 데이터셋 내에서 검증용으로 사용할 ImageSets 묶음의 이름입니다.\n",
    " - `weight_file_path` : 결과 weight파일이 출력될 경로 및 이름을 지정합니다.\n",
    " - `epochs` : 총 몇 epoch를 실행할 건지를 지정할 수 있습니다.\n",
    " - `epoch_len` : 한 epoch당 몇 샘플을 훈련할 것인지를 지정할 수 있습니다. 이 값이 1보다 작으면 한 epoch마다 훈련용 데이터셋 전체를 순회합니다.\n",
    " - `batch_size` : 한 훈련에 몇개의 샘플을 일괄 훈련할 것인지를 지정합니다. 훈련 도중 OOM 오류가 발생하면 이 값을 낮춰서 재시도하시기 바랍니다.\n",
    " - `earlystopping` : 학습 조기종료(EarlyStopping)의 patience를 지정합니다. 이 epoch 횟수동안 val_loss에 진전이 없으면 학습이 종료됩니다. 20 이상을 권장합니다."
   ]
  },
  {
   "cell_type": "code",
   "execution_count": null,
   "metadata": {
    "collapsed": true
   },
   "outputs": [],
   "source": [
    "classes = None\n",
    "dataset_path = './dataset/PascalVOC2012'\n",
    "train_dataset_name = 'train'\n",
    "val_dataset_name = 'val'\n",
    "weight_file_path = './retinanet.h5'\n",
    "epochs = 2000\n",
    "epoch_len = 1000\n",
    "batch_size = 4\n",
    "earlystopping = 20\n",
    "\n",
    "if classes is None:\n",
    "    classes = {'aeroplane': 0, 'bicycle': 1, 'bird': 2, 'boat': 3, 'bottle': 4,\n",
    "               'bus': 5, 'car': 6, 'cat': 7, 'chair': 8, 'cow': 9,\n",
    "               'diningtable': 10, 'dog': 11, 'horse': 12, 'motorbike': 13, 'person': 14,\n",
    "               'pottedplant': 15, 'sheep': 16, 'sofa': 17, 'train': 18, 'tvmonitor': 19}"
   ]
  },
  {
   "cell_type": "markdown",
   "metadata": {},
   "source": [
    "### 모델 빌드\n",
    "\n",
    "RetinaNet with ResNet50 모델을 빌드합니다."
   ]
  },
  {
   "cell_type": "code",
   "execution_count": null,
   "metadata": {},
   "outputs": [],
   "source": [
    "def get_session():\n",
    "    config = tf.ConfigProto()\n",
    "    config.gpu_options.allow_growth = True\n",
    "    return tf.Session(config=config)\n",
    "\n",
    "check_keras_version()\n",
    "\n",
    "set_session(get_session())\n",
    "\n",
    "image_input = Input((None, None, 3))\n",
    "model = ResNet50RetinaNet(image_input, num_classes=len(classes), weights='imagenet', nms=False)\n",
    "\n",
    "model.compile(\n",
    "    loss={'regression': smooth_l1(), 'classification': focal()},\n",
    "    optimizer=adam(lr=1e-5, clipnorm=0.001)\n",
    ")"
   ]
  },
  {
   "cell_type": "markdown",
   "metadata": {},
   "source": [
    "### 데이터셋 로딩\n",
    "\n",
    "훈련 및 검증에 필요한 데이터셋을 로드합니다."
   ]
  },
  {
   "cell_type": "code",
   "execution_count": null,
   "metadata": {
    "collapsed": true
   },
   "outputs": [],
   "source": [
    "train_image_data_generator = ImageDataGenerator(\n",
    "    horizontal_flip=True,\n",
    "    vertical_flip=True\n",
    ")\n",
    "val_image_data_generator = ImageDataGenerator()\n",
    "\n",
    "train_generator = PascalVocGenerator(\n",
    "    dataset_path,\n",
    "    train_dataset_name,\n",
    "    train_image_data_generator,\n",
    "    batch_size = batch_size,\n",
    "    classes = classes\n",
    ")\n",
    "\n",
    "val_generator = PascalVocGenerator(\n",
    "    dataset_path,\n",
    "    val_dataset_name,\n",
    "    val_image_data_generator,\n",
    "    batch_size = batch_size,\n",
    "    classes = classes\n",
    ")"
   ]
  },
  {
   "cell_type": "markdown",
   "metadata": {},
   "source": [
    "### 훈련 시작\n",
    "\n",
    "데이터셋에 맞게 모델의 훈련을 시작합니다. 훈련 과정에서 val_loss가 최저인 weight가 자동으로 저장됩니다."
   ]
  },
  {
   "cell_type": "code",
   "execution_count": null,
   "metadata": {
    "scrolled": true
   },
   "outputs": [],
   "source": [
    "if epoch_len < 1:\n",
    "    epoch_len = len(train_generator.image_names)\n",
    "\n",
    "model.fit_generator(\n",
    "    generator = train_generator,\n",
    "    steps_per_epoch = epoch_len // batch_size,\n",
    "    epochs = epochs,\n",
    "    verbose = 2,\n",
    "    validation_data = val_generator,\n",
    "    validation_steps = 200 // batch_size,\n",
    "    callbacks = [\n",
    "        ModelCheckpoint(weight_file_path, monitor='val_loss', verbose=1, save_best_only=True, save_weights_only=True),\n",
    "        ReduceLROnPlateau(monitor='val_loss', factor=0.1, patience=10, verbose=1, mode='auto', epsilon=0.0001, cooldown=0, min_lr=0),\n",
    "        EarlyStopping(monitor='val_loss', min_delta=0, patience=earlystopping, verbose=1, mode='auto')\n",
    "    ]\n",
    ")"
   ]
  }
 ],
 "metadata": {
  "kernelspec": {
   "display_name": "Python 2",
   "language": "python",
   "name": "python2"
  },
  "language_info": {
   "codemirror_mode": {
    "name": "ipython",
    "version": 2
   },
   "file_extension": ".py",
   "mimetype": "text/x-python",
   "name": "python",
   "nbconvert_exporter": "python",
   "pygments_lexer": "ipython2",
   "version": "2.7.12"
  }
 },
 "nbformat": 4,
 "nbformat_minor": 2
}
