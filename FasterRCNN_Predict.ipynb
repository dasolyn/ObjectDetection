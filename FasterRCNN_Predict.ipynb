{
 "cells": [
  {
   "cell_type": "markdown",
   "metadata": {},
   "source": [
    "## Predict\n",
    "\n",
    "이미 훈련된 Faster RCNN 모델을 로드하여 객체 검출을 하는 과정입니다."
   ]
  },
  {
   "cell_type": "code",
   "execution_count": null,
   "metadata": {},
   "outputs": [],
   "source": [
    "from __future__ import division\n",
    "import os\n",
    "import cv2\n",
    "import numpy as np\n",
    "import sys\n",
    "import pickle\n",
    "import time\n",
    "from keras_frcnn import config\n",
    "from keras import backend as K\n",
    "from keras.layers import Input\n",
    "from keras.models import Model\n",
    "from keras_frcnn import roi_helpers\n",
    "import keras_frcnn.resnet as nn"
   ]
  },
  {
   "cell_type": "markdown",
   "metadata": {},
   "source": [
    "### 데이터셋 설정\n",
    "\n",
    "아래는 데이터셋 및 객체 검출 설정에 필요한 환경 변수입니다. 사용하는 데이터셋 및 모델에 맞춰서 변경하시기 바랍니다.\n",
    "\n",
    " - `weight_file_path` : 입력 weight 파일의 경로 및 이름을 지정합니다.\n",
    " - `config_file_path` : 모델 정보를 담은 pickle 파일의 경로 및 이름을 지정합니다.\n",
    " - `predict_source` : 객체 검출을 할 대상 이미지 파일이 있는 디렉토리를 지정합니다.\n",
    " - `predict_result` : 객체 검출 결과가 출력될 디렉토리를 지정합니다. 자동으로 해당 디렉토리를 생성하지 않으므로 미리 생성해두셔야 합니다.\n",
    " - `bbox_threshold` : 검출된 경계 상자를 양성(positive)로 판정할 임계값입니다."
   ]
  },
  {
   "cell_type": "code",
   "execution_count": null,
   "metadata": {
    "collapsed": true
   },
   "outputs": [],
   "source": [
    "weight_file_path = './frcnn.hdf5'\n",
    "config_file_path = './config.pickle'\n",
    "predict_source = './images'\n",
    "predict_result = './results'\n",
    "bbox_threshold = 0.8"
   ]
  },
  {
   "cell_type": "markdown",
   "metadata": {},
   "source": [
    "### 모델 빌드\n",
    "\n",
    "Faster RCNN with ResNet50 모델을 빌드하고 모델의 weight 파일을 로드합니다."
   ]
  },
  {
   "cell_type": "code",
   "execution_count": null,
   "metadata": {
    "collapsed": true
   },
   "outputs": [],
   "source": [
    "with open(config_file_path, 'rb') as f_in:\n",
    "    C = pickle.load(f_in)\n",
    "\n",
    "class_mapping = C.class_mapping\n",
    "\n",
    "if 'bg' not in class_mapping:\n",
    "    class_mapping['bg'] = len(class_mapping)\n",
    "\n",
    "class_mapping = {v: k for k, v in class_mapping.items()}\n",
    "class_to_color = {class_mapping[v]: np.random.randint(0, 255, 3) for v in class_mapping}"
   ]
  },
  {
   "cell_type": "code",
   "execution_count": null,
   "metadata": {
    "collapsed": true
   },
   "outputs": [],
   "source": [
    "C.num_rois = 32\n",
    "\n",
    "img_input = Input(shape=(None, None, 3))\n",
    "roi_input = Input(shape=(C.num_rois, 4))\n",
    "feature_map_input = Input(shape=(None, None, 1024))\n",
    "\n",
    "shared_layers = nn.nn_base(img_input, trainable=True)\n",
    "num_anchors = len(C.anchor_box_scales) * len(C.anchor_box_ratios)\n",
    "rpn_layers = nn.rpn(shared_layers, num_anchors)\n",
    "classifier = nn.classifier(feature_map_input, roi_input, C.num_rois, nb_classes=len(class_mapping), trainable=True)\n",
    "\n",
    "model_rpn = Model(img_input, rpn_layers)\n",
    "model_classifier_only = Model([feature_map_input, roi_input], classifier)\n",
    "model_classifier = Model([feature_map_input, roi_input], classifier)\n",
    "\n",
    "model_rpn.load_weights(weight_file_path, by_name=True)\n",
    "model_classifier.load_weights(weight_file_path, by_name=True)\n",
    "\n",
    "model_rpn.compile(optimizer='sgd', loss='mse')\n",
    "model_classifier.compile(optimizer='sgd', loss='mse')"
   ]
  },
  {
   "cell_type": "markdown",
   "metadata": {},
   "source": [
    "### 검출 시작\n",
    "\n",
    "로드한 모델을 이용해서 소스 이미지의 객체 검출을 실행하고 출력합니다."
   ]
  },
  {
   "cell_type": "code",
   "execution_count": null,
   "metadata": {
    "collapsed": true
   },
   "outputs": [],
   "source": [
    "def format_img_size(img, C):\n",
    "    img_min_side = float(C.im_size)\n",
    "    (height,width,_) = img.shape\n",
    "    if width <= height:\n",
    "        ratio = img_min_side/width\n",
    "        new_height = int(ratio * height)\n",
    "        new_width = int(img_min_side)\n",
    "    else:\n",
    "        ratio = img_min_side/height\n",
    "        new_width = int(ratio * width)\n",
    "        new_height = int(img_min_side)\n",
    "    img = cv2.resize(img, (new_width, new_height), interpolation=cv2.INTER_CUBIC)\n",
    "    return img, ratio\n",
    "\n",
    "def format_img_channels(img, C):\n",
    "    img = img[:, :, (2, 1, 0)]\n",
    "    img = img.astype(np.float32)\n",
    "    img[:, :, 0] -= C.img_channel_mean[0]\n",
    "    img[:, :, 1] -= C.img_channel_mean[1]\n",
    "    img[:, :, 2] -= C.img_channel_mean[2]\n",
    "    img /= C.img_scaling_factor\n",
    "    img = np.transpose(img, (2, 0, 1))\n",
    "    img = np.expand_dims(img, axis=0)\n",
    "    return img\n",
    "\n",
    "def format_img(img, C):\n",
    "    img, ratio = format_img_size(img, C)\n",
    "    img = format_img_channels(img, C)\n",
    "    return img, ratio\n",
    "\n",
    "def get_real_coordinates(ratio, x1, y1, x2, y2):\n",
    "    real_x1 = int(x1 / ratio)\n",
    "    real_y1 = int(y1 / ratio)\n",
    "    real_x2 = int(x2 / ratio)\n",
    "    real_y2 = int(y2 / ratio)\n",
    "\n",
    "    return (real_x1, real_y1, real_x2 ,real_y2)"
   ]
  },
  {
   "cell_type": "code",
   "execution_count": null,
   "metadata": {},
   "outputs": [],
   "source": [
    "all_imgs = []\n",
    "classes = {}\n",
    "\n",
    "for dir_path, _, filenames in os.walk(predict_source):\n",
    "    for filename in filenames:\n",
    "        if not filename.endswith(('.jpg', '.png')):\n",
    "            continue\n",
    "\n",
    "        # 이미지 로드\n",
    "        start = time.time()\n",
    "        file_path = os.path.join(dir_path, filename)\n",
    "        print(file_path)\n",
    "        img = cv2.imread(file_path, cv2.IMREAD_COLOR)\n",
    "\n",
    "        # 정규화 및 리사이징\n",
    "        X, ratio = format_img(img, C)\n",
    "        X = np.transpose(X, (0, 2, 3, 1))\n",
    "\n",
    "        # 검출 (영역 제안)\n",
    "        [Y1, Y2, F] = model_rpn.predict(X)\n",
    "        R = roi_helpers.rpn_to_roi(Y1, Y2, C, K.image_dim_ordering(), overlap_thresh=0.7)\n",
    "        R[:, 2] -= R[:, 0]\n",
    "        R[:, 3] -= R[:, 1]\n",
    "\n",
    "        # 검출 (영역 분류)\n",
    "        bboxes = {}\n",
    "        probs = {}\n",
    "        \n",
    "        for jk in range(R.shape[0]//C.num_rois + 1):\n",
    "            ROIs = np.expand_dims(R[C.num_rois*jk:C.num_rois*(jk+1), :], axis=0)\n",
    "            if ROIs.shape[1] == 0:\n",
    "                break\n",
    "\n",
    "            if jk == R.shape[0]//C.num_rois:\n",
    "                curr_shape = ROIs.shape\n",
    "                target_shape = (curr_shape[0],C.num_rois,curr_shape[2])\n",
    "                ROIs_padded = np.zeros(target_shape).astype(ROIs.dtype)\n",
    "                ROIs_padded[:, :curr_shape[1], :] = ROIs\n",
    "                ROIs_padded[0, curr_shape[1]:, :] = ROIs[0, 0, :]\n",
    "                ROIs = ROIs_padded\n",
    "\n",
    "            [P_cls, P_regr] = model_classifier_only.predict([F, ROIs])\n",
    "\n",
    "            for ii in range(P_cls.shape[1]):\n",
    "\n",
    "                if np.max(P_cls[0, ii, :]) < bbox_threshold or np.argmax(P_cls[0, ii, :]) == (P_cls.shape[2] - 1):\n",
    "                    continue\n",
    "\n",
    "                cls_name = class_mapping[np.argmax(P_cls[0, ii, :])]\n",
    "\n",
    "                if cls_name not in bboxes:\n",
    "                    bboxes[cls_name] = []\n",
    "                    probs[cls_name] = []\n",
    "\n",
    "                (x, y, w, h) = ROIs[0, ii, :]\n",
    "\n",
    "                cls_num = np.argmax(P_cls[0, ii, :])\n",
    "                try:\n",
    "                    (tx, ty, tw, th) = P_regr[0, ii, 4*cls_num:4*(cls_num+1)]\n",
    "                    tx /= C.classifier_regr_std[0]\n",
    "                    ty /= C.classifier_regr_std[1]\n",
    "                    tw /= C.classifier_regr_std[2]\n",
    "                    th /= C.classifier_regr_std[3]\n",
    "                    x, y, w, h = roi_helpers.apply_regr(x, y, w, h, tx, ty, tw, th)\n",
    "                except:\n",
    "                    pass\n",
    "                bboxes[cls_name].append([C.rpn_stride*x, C.rpn_stride*y, C.rpn_stride*(x+w), C.rpn_stride*(y+h)])\n",
    "                probs[cls_name].append(np.max(P_cls[0, ii, :]))\n",
    "\n",
    "        # 결과 후처리\n",
    "        for key in bboxes:\n",
    "            bbox = np.array(bboxes[key])\n",
    "\n",
    "            new_boxes, new_probs = roi_helpers.non_max_suppression_fast(bbox, np.array(probs[key]), overlap_thresh=0.5)\n",
    "            for jk in range(new_boxes.shape[0]):\n",
    "                (x1, y1, x2, y2) = new_boxes[jk,:]\n",
    "\n",
    "                (real_x1, real_y1, real_x2, real_y2) = get_real_coordinates(ratio, x1, y1, x2, y2)\n",
    "                \n",
    "                print('Label: {}, Score: {}, LTRB of the boundary box: {}, {}, {}, {}'.format(key, new_probs[jk], real_x1, real_y2, real_x2, real_y2))\n",
    "\n",
    "                cv2.rectangle(img,(real_x1, real_y1), (real_x2, real_y2), (int(class_to_color[key][0]), int(class_to_color[key][1]), int(class_to_color[key][2])),2)\n",
    "\n",
    "                textLabel = '{}: {}'.format(key,new_probs[jk])\n",
    "\n",
    "                (retval,baseLine) = cv2.getTextSize(textLabel,cv2.FONT_HERSHEY_COMPLEX,1,1)\n",
    "                textOrg = (real_x1, real_y1-0)\n",
    "\n",
    "                cv2.rectangle(img, (textOrg[0] - 5, textOrg[1]+baseLine - 5), (textOrg[0]+retval[0] + 5, textOrg[1]-retval[1] - 5), (0, 0, 0), 2)\n",
    "                cv2.rectangle(img, (textOrg[0] - 5,textOrg[1]+baseLine - 5), (textOrg[0]+retval[0] + 5, textOrg[1]-retval[1] - 5), (255, 255, 255), -1)\n",
    "                cv2.putText(img, textLabel, textOrg, cv2.FONT_HERSHEY_DUPLEX, 1, (0, 0, 0), 1)\n",
    "\n",
    "        cv2.imwrite(os.path.join(predict_result, filename), img)\n",
    "\n",
    "        print(\"Processing time: {}\".format(time.time() - start))"
   ]
  }
 ],
 "metadata": {
  "kernelspec": {
   "display_name": "Python 2",
   "language": "python",
   "name": "python2"
  },
  "language_info": {
   "codemirror_mode": {
    "name": "ipython",
    "version": 2
   },
   "file_extension": ".py",
   "mimetype": "text/x-python",
   "name": "python",
   "nbconvert_exporter": "python",
   "pygments_lexer": "ipython2",
   "version": "2.7.12"
  }
 },
 "nbformat": 4,
 "nbformat_minor": 2
}
